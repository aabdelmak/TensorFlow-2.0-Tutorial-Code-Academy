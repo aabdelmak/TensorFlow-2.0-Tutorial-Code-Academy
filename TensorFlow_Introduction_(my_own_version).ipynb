{
  "nbformat": 4,
  "nbformat_minor": 0,
  "metadata": {
    "colab": {
      "name": "TensorFlow-Introduction (my own version).ipynb",
      "provenance": [],
      "collapsed_sections": [
        "c9pkaceNpjaX"
      ],
      "authorship_tag": "ABX9TyOBe60xNYvxS6TPRc7rh1eX",
      "include_colab_link": true
    },
    "kernelspec": {
      "name": "python3",
      "display_name": "Python 3"
    }
  },
  "cells": [
    {
      "cell_type": "markdown",
      "metadata": {
        "id": "view-in-github",
        "colab_type": "text"
      },
      "source": [
        "<a href=\"https://colab.research.google.com/github/aabdelmak/TensorFlow-2.0-Tutorial-Code-Academy/blob/master/TensorFlow_Introduction_(my_own_version).ipynb\" target=\"_parent\"><img src=\"https://colab.research.google.com/assets/colab-badge.svg\" alt=\"Open In Colab\"/></a>"
      ]
    },
    {
      "cell_type": "markdown",
      "metadata": {
        "id": "c9pkaceNpjaX",
        "colab_type": "text"
      },
      "source": [
        "## Disclaimer: This Notebook is by no means my original content - credits go to Tim from Codecamp for this tutorial ## \n",
        "\n",
        "#TensorFlow 2.0 Introduction\n",
        "In this notebook you will be given an interactive introduction to TensorFlow 2.0. We will walk through the following topics within the TensorFlow module:\n",
        "\n",
        "- TensorFlow Install and Setup\n",
        "- Representing Tensors\n",
        "- Tensor Shape and Rank\n",
        "- Types of Tensors\n",
        "\n",
        "\n",
        "If you'd like to follow along without installing TensorFlow on your machine you can use **Google Collaboratory**. Collaboratory is a free Jupyter notebook environment that requires no setup and runs entirely in the cloud.\n"
      ]
    },
    {
      "cell_type": "markdown",
      "metadata": {
        "id": "NqGhNyLEqCbw",
        "colab_type": "text"
      },
      "source": [
        "##Installing TensorFlow\n",
        "To install TensorFlow on your local machine you can use pip.\n",
        "```console\n",
        "pip install tensorflow\n",
        "```"
      ]
    },
    {
      "cell_type": "markdown",
      "metadata": {
        "id": "8yUyT47SqNi5",
        "colab_type": "text"
      },
      "source": [
        "## Importing TensorFlow\n",
        "\n",
        "The first step here is going to be to select the correct version of TenorFlow from within collaboratory!"
      ]
    },
    {
      "cell_type": "code",
      "metadata": {
        "id": "l2F9gHUUM3ma",
        "colab_type": "code",
        "colab": {
          "base_uri": "https://localhost:8080/",
          "height": 102
        },
        "outputId": "709d3374-2c93-480d-f767-8a62270dd9b9"
      },
      "source": [
        "%tensorflow_version 2.x #ensure in notebook that this is entered"
      ],
      "execution_count": null,
      "outputs": [
        {
          "output_type": "stream",
          "text": [
            "`%tensorflow_version` only switches the major version: 1.x or 2.x.\n",
            "You set: `2.x #ensure in notebook that this is entered`. This will be interpreted as: `2.x`.\n",
            "\n",
            "\n",
            "TensorFlow 2.x selected.\n"
          ],
          "name": "stdout"
        }
      ]
    },
    {
      "cell_type": "code",
      "metadata": {
        "id": "cBDIkkyDNaga",
        "colab_type": "code",
        "colab": {
          "base_uri": "https://localhost:8080/",
          "height": 54
        },
        "outputId": "805934d2-ad35-44b0-da98-eeb558d47df4"
      },
      "source": [
        "import tensorflow as tf #now import the tensorflow module\n",
        "print(tf.version) #make sure the version is 2.x"
      ],
      "execution_count": null,
      "outputs": [
        {
          "output_type": "stream",
          "text": [
            "<module 'tensorflow._api.v2.version' from '/usr/local/lib/python3.6/dist-packages/tensorflow/_api/v2/version/__init__.py'>\n"
          ],
          "name": "stdout"
        }
      ]
    },
    {
      "cell_type": "markdown",
      "metadata": {
        "id": "4a7Hp8teORSo",
        "colab_type": "text"
      },
      "source": [
        "## Tensors\n",
        "\"A tensor is a generalization of vectors and matrices to potentially higher dimensions. Internally, TensorFlow represents tensors as n-dimensional arrays of base datatypes.\" (https://www.tensorflow.org/guide/tensor)\n",
        "\n",
        "It shouldn't surprise you that tensors are a fundamental aspect of TensorFlow. They are the main objects that are passed around and manipulated throughout the program. Each tensor represents a partially defined computation that will eventually produce a value. TensorFlow programs work by building a graph of Tensor objects that details how tensors are related. Running different parts of the graph allow results to be generated. \n",
        "\n",
        "Each tensor has a data type and a shape.\n",
        "\n",
        "**Data Types Included**: float32, int32, string and others.\n",
        "\n",
        "**Shape**: Represents the dimension of data.\n",
        "\n",
        "Just like vectors and matrices tensors can have operations applied to them like addition, subtraction, dot product, corss product, etc.\n",
        "\n",
        "In the next section we will discuss some different properties of tensors. This is to make you more familiar with how TensorFlow represents data and how you can manipulate this data.\n"
      ]
    },
    {
      "cell_type": "markdown",
      "metadata": {
        "id": "EVAqh0lS0lak",
        "colab_type": "text"
      },
      "source": [
        "## Creating Tensors\n",
        "\n",
        "Below is an example of how to create some different tensors. \n",
        "\n",
        "You simply defined the value of the tensor and the datatype and you are good to go! it's worth mentioning that usually we deal with tensors of numeric data, it is quite rare to see string tensors.\n",
        "\n",
        "For a full list of datatypes please refer to the following guide.\n",
        "\n",
        "https://www.tensorflow.org/api_docs/python/tf/dtypes/DType?version=stable\n"
      ]
    },
    {
      "cell_type": "code",
      "metadata": {
        "id": "-I9ftrjZNZE6",
        "colab_type": "code",
        "colab": {}
      },
      "source": [
        "string = tf.Variable(\"this is a string\", tf.string)\n",
        "number = tf.Variable(324, tf.int16)\n",
        "floating = tf.Variable(3.567, tf.float64)"
      ],
      "execution_count": null,
      "outputs": []
    },
    {
      "cell_type": "markdown",
      "metadata": {
        "id": "BkRkJtWi1DE7",
        "colab_type": "text"
      },
      "source": [
        "## Rank/Degree of Tensors\n",
        "\n",
        "Another word for rank is degree, these terms simply mean the numnber of dimensions involved in the tensor. What we created above is a tensor of *rank 0*, also known as a scalar.\n",
        "\n",
        "Now we'll create some tensors of higher degrees/ranks."
      ]
    },
    {
      "cell_type": "code",
      "metadata": {
        "id": "TQv8QXXsPN4n",
        "colab_type": "code",
        "colab": {}
      },
      "source": [
        "rank1_tensor = tf.Variable([\"Test\", \"ok\", \"Ahmed\"], tf.string)\n",
        "rank2_tensor = tf.Variable([[\"test\", \"ok\"], [\"test\", \"yes\"]], tf.string)"
      ],
      "execution_count": null,
      "outputs": []
    },
    {
      "cell_type": "markdown",
      "metadata": {
        "id": "37mE4a3Z18HH",
        "colab_type": "text"
      },
      "source": [
        "**To determine the rank** of a tensor we can call the following method."
      ]
    },
    {
      "cell_type": "code",
      "metadata": {
        "id": "-gDNugjjPeGE",
        "colab_type": "code",
        "colab": {
          "base_uri": "https://localhost:8080/",
          "height": 34
        },
        "outputId": "291c244d-2665-4aad-f7fd-ab584451875a"
      },
      "source": [
        "tf.rank(rank2_tensor)"
      ],
      "execution_count": null,
      "outputs": [
        {
          "output_type": "execute_result",
          "data": {
            "text/plain": [
              "<tf.Tensor: shape=(), dtype=int32, numpy=2>"
            ]
          },
          "metadata": {
            "tags": []
          },
          "execution_count": 8
        }
      ]
    },
    {
      "cell_type": "code",
      "metadata": {
        "id": "gXXZzxKgPjul",
        "colab_type": "code",
        "colab": {
          "base_uri": "https://localhost:8080/",
          "height": 34
        },
        "outputId": "0a3dd923-e578-483a-b6f3-7ba8fbb1e820"
      },
      "source": [
        "tf.rank(rank1_tensor)"
      ],
      "execution_count": null,
      "outputs": [
        {
          "output_type": "execute_result",
          "data": {
            "text/plain": [
              "<tf.Tensor: shape=(), dtype=int32, numpy=1>"
            ]
          },
          "metadata": {
            "tags": []
          },
          "execution_count": 9
        }
      ]
    },
    {
      "cell_type": "markdown",
      "metadata": {
        "id": "5ZY_AwSh2Cjc",
        "colab_type": "text"
      },
      "source": [
        "The rank of a tensor is directly related to the deepest level of nested lists. You can see in the first example [\"Test\"] is a rank 1 tensor as the deepest level of nested lists is 1. Where in the second example [[\"test\", \"ok\"], [\"test\", \"yes\"]] is a rank 2 tensor, as the deepest nesting level is 2."
      ]
    },
    {
      "cell_type": "markdown",
      "metadata": {
        "id": "_9KryVpf2Cqs",
        "colab_type": "text"
      },
      "source": [
        "## Shape of Tensors\n",
        "\n",
        "Now that we've talked about the rank of tensors it's time to talk about the shape. the shape of a tensor is simply the number of elements that exist in each dimension. TensorFlow will try to determine the shape of a tensor but sometimes it might be unknown.\n",
        "\n",
        "To **get the shape** of a tensor we use the shape attribute"
      ]
    },
    {
      "cell_type": "code",
      "metadata": {
        "id": "kdeV9QPsPxNB",
        "colab_type": "code",
        "colab": {
          "base_uri": "https://localhost:8080/",
          "height": 34
        },
        "outputId": "7fb1480b-37f0-438e-d617-5b0ef80f1f7b"
      },
      "source": [
        "rank2_tensor.shape #note, no tf. here"
      ],
      "execution_count": null,
      "outputs": [
        {
          "output_type": "execute_result",
          "data": {
            "text/plain": [
              "TensorShape([2, 2])"
            ]
          },
          "metadata": {
            "tags": []
          },
          "execution_count": 10
        }
      ]
    },
    {
      "cell_type": "code",
      "metadata": {
        "id": "LDDuY2e63Z_8",
        "colab_type": "code",
        "colab": {
          "base_uri": "https://localhost:8080/",
          "height": 34
        },
        "outputId": "35a92dd9-5d46-4a2c-bd9b-728865e5450d"
      },
      "source": [
        "rank1_tensor.shape"
      ],
      "execution_count": null,
      "outputs": [
        {
          "output_type": "execute_result",
          "data": {
            "text/plain": [
              "TensorShape([3])"
            ]
          },
          "metadata": {
            "tags": []
          },
          "execution_count": 11
        }
      ]
    },
    {
      "cell_type": "markdown",
      "metadata": {
        "id": "huvWAjKo3Y7Q",
        "colab_type": "text"
      },
      "source": [
        "##Changing Shape\n",
        "\n",
        "The number of elements of a tensor is the product of the sizes of all its shapes. There are often many shapes that have the same number of elements, making it convenient to be able to change the shape of a tensor."
      ]
    },
    {
      "cell_type": "code",
      "metadata": {
        "id": "gV1LUl8QQeJ9",
        "colab_type": "code",
        "colab": {
          "base_uri": "https://localhost:8080/",
          "height": 272
        },
        "outputId": "14a4c6d4-3ace-496b-edb4-61b9dc44b45f"
      },
      "source": [
        "tensor1 = tf.ones([1,2,3], \"float32\") #tf.ones() creates a shape [1,2,3] tensor full of ones\n",
        "tensor1modified = tf.ones([1,2,3]) #shape = (num_elements_bracket1,num_elements_bracket2,num_element_bracket3)\n",
        "tensor2 = tf.reshape(tensor1, [2,3,1]) # reshape existing data to shape [2,3,1]\n",
        "tensor3 = tf.reshape(tensor2, [3,-1]) # -1 tells the tensor to calculate the size of the dimension in that place\n",
        "                                       # this will reshape the tensor to [3,2]"
      ],
      "execution_count": null,
      "outputs": [
        {
          "output_type": "execute_result",
          "data": {
            "text/plain": [
              "(<tf.Tensor: shape=(1, 2, 3), dtype=float32, numpy=\n",
              " array([[[1., 1., 1.],\n",
              "         [1., 1., 1.]]], dtype=float32)>,\n",
              " <tf.Tensor: shape=(2, 3, 1), dtype=float32, numpy=\n",
              " array([[[1.],\n",
              "         [1.],\n",
              "         [1.]],\n",
              " \n",
              "        [[1.],\n",
              "         [1.],\n",
              "         [1.]]], dtype=float32)>,\n",
              " <tf.Tensor: shape=(3, 2), dtype=float32, numpy=\n",
              " array([[1., 1.],\n",
              "        [1., 1.],\n",
              "        [1., 1.]], dtype=float32)>)"
            ]
          },
          "metadata": {
            "tags": []
          },
          "execution_count": 62
        }
      ]
    },
    {
      "cell_type": "markdown",
      "metadata": {
        "id": "WsxEfPNj3O8f",
        "colab_type": "text"
      },
      "source": [
        "Now let's have a look at our different tensors\n"
      ]
    },
    {
      "cell_type": "code",
      "metadata": {
        "id": "wYz08DKzG9iJ",
        "colab_type": "code",
        "colab": {
          "base_uri": "https://localhost:8080/",
          "height": 272
        },
        "outputId": "1b94435d-4317-47b7-f902-c9f54dfd0c03"
      },
      "source": [
        "print(tensor1)\n",
        "print(tensor2)\n",
        "print(tensor3) #notice the changes in shape"
      ],
      "execution_count": null,
      "outputs": [
        {
          "output_type": "stream",
          "text": [
            "tf.Tensor(\n",
            "[[[1. 1. 1.]\n",
            "  [1. 1. 1.]]], shape=(1, 2, 3), dtype=float32)\n",
            "tf.Tensor(\n",
            "[[[1.]\n",
            "  [1.]\n",
            "  [1.]]\n",
            "\n",
            " [[1.]\n",
            "  [1.]\n",
            "  [1.]]], shape=(2, 3, 1), dtype=float32)\n",
            "tf.Tensor(\n",
            "[[1. 1.]\n",
            " [1. 1.]\n",
            " [1. 1.]], shape=(3, 2), dtype=float32)\n"
          ],
          "name": "stdout"
        }
      ]
    },
    {
      "cell_type": "markdown",
      "metadata": {
        "id": "hDXOjH_8HGJF",
        "colab_type": "text"
      },
      "source": [
        "## Slicing Tensors\n",
        "\n",
        "You may be familiar with the term \"slice\" in python and its use on lists, tuples, etc. Well, the slice operator can be used on tensors to select specific axes or elements.\n",
        "\n",
        "When we slice or select elements from a tensor, we can use comma-separated values inside the set of square brackets. Each subsequent value references a different dimension of the tensor.\n",
        "\n",
        "Ex: tensor[dim1, dim2, dim3]\n",
        "\n",
        "I've included a few examples that will demonstrate how we can manipulate tensors using the slice operator."
      ]
    },
    {
      "cell_type": "code",
      "metadata": {
        "id": "zGQgruHnHiYu",
        "colab_type": "code",
        "colab": {
          "base_uri": "https://localhost:8080/",
          "height": 51
        },
        "outputId": "aa5c653a-bce4-4297-b341-a04aca4eea7e"
      },
      "source": [
        "#Creating 2D tensor,\n",
        "\n",
        "matrix = [[1,2,3,4,5],\n",
        "          [6,7,8,9,10],\n",
        "          [11,12,13,14,15],\n",
        "          [16,17,18,19,20]]\n",
        "\n",
        "tensor = tf.Variable(matrix, dtype = tf.int32)\n",
        "print(tf.rank(tensor))\n",
        "print(tensor.shape)"
      ],
      "execution_count": null,
      "outputs": [
        {
          "output_type": "stream",
          "text": [
            "tf.Tensor(2, shape=(), dtype=int32)\n",
            "(4, 5)\n"
          ],
          "name": "stdout"
        }
      ]
    },
    {
      "cell_type": "code",
      "metadata": {
        "id": "aXNHE9QLIEds",
        "colab_type": "code",
        "colab": {
          "base_uri": "https://localhost:8080/",
          "height": 136
        },
        "outputId": "3d3adf61-d69f-4d0e-9995-12607007a7fb"
      },
      "source": [
        "#Now lets select some differernt rows and columns from our tensor\n",
        "\n",
        "three = tensor[0,2] #summons index2 = 2 element of the index1 = 0 element of the tensor \n",
        "print(three) #-> 3\n",
        "\n",
        "row1 = tensor[0] #select the first row \n",
        "print(row1)\n",
        "\n",
        "column1 = tensor[:, 0] # start to end in rows of column 1\n",
        "print(column1)\n",
        "\n",
        "row_2_and_4 = tensor[1::2] #second row onwards in two steps to the fourth row\n",
        "print(row_2_and_4)\n",
        "\n",
        "column_1_in_row_2_and_3 = tensor[1:3,0]\n",
        "print(column_1_in_row_2_and_3)"
      ],
      "execution_count": null,
      "outputs": [
        {
          "output_type": "stream",
          "text": [
            "tf.Tensor(3, shape=(), dtype=int32)\n",
            "tf.Tensor([1 2 3 4 5], shape=(5,), dtype=int32)\n",
            "tf.Tensor([ 1  6 11 16], shape=(4,), dtype=int32)\n",
            "tf.Tensor(\n",
            "[[ 6  7  8  9 10]\n",
            " [16 17 18 19 20]], shape=(2, 5), dtype=int32)\n",
            "tf.Tensor([ 6 11], shape=(2,), dtype=int32)\n"
          ],
          "name": "stdout"
        }
      ]
    },
    {
      "cell_type": "markdown",
      "metadata": {
        "id": "rJTTQgOgMCE-",
        "colab_type": "text"
      },
      "source": [
        "## Types of Tensors\n",
        "Before we go too far, I will mention that there are different types of tensors. These are the most used and we will talk more in depth about each as theya re used.\n",
        "- Variable\n",
        "- Constant\n",
        "- Placeholder\n",
        "- SparseTensor\n",
        "\n",
        "with the exception of Variable, all these tensors are **immutable**, meaning their value cannot change during execution.\n",
        "\n",
        "For now, it is enough to understand that we use variable tensor when we want to potentially change the value of our tensor.\n",
        "\n",
        "#Sources\n",
        "Most of the information is taken direclty from the TensorFlow website which can be found below.\n",
        "\n",
        "https://www.tensorflow.org/guide/tensor\n"
      ]
    }
  ]
}